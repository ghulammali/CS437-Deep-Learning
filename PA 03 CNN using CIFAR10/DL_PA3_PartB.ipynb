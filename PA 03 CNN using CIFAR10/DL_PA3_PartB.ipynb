{
 "cells": [
  {
   "cell_type": "markdown",
   "metadata": {
    "colab_type": "text",
    "id": "UfCHQVXK1Jw0"
   },
   "source": [
    "# Homework 3  - Part B\n",
    "\n",
    "\n",
    "###### Roll Number: 20100186"
   ]
  },
  {
   "cell_type": "markdown",
   "metadata": {
    "colab_type": "text",
    "id": "QidmC6BQ1Jw6"
   },
   "source": [
    "We'll start Part B by taking out a minute to thank creators of Tensorflow and Keras for making our lives easier. The goal of this home work is to design a convolutional neural network to classify images from CIFAR-10. CIFAR-10 is a subset of CIFAR-100 with 10 and 100 being number of classes. They were collected by Alex Krizhevsky, Vinod Nair, and Geoffrey Hinton. We'll be building small CNNs using Keras to solve this classification task.\n",
    "<br>\n",
    "\n",
    "Please note:\n",
    "- You have to save each trained model weights and tensorboard logs in different folder. Use proper names for the model\n",
    "- You have to show trainings in this notebook file, so make sure that the printings and figures are available on this notebook file\n",
    "- This notebook is also your report file. So add your comments and analysis of each task. Your comments and analysis are as important as your code. This would be considered short report and it is compulsory part of the homework.\n",
    "- Your system memory may overflow. In that case, please reset memory for trained model(s) keeping printed logs and history of trained model. History of all trained models could be used to plot the trends.\n",
    "- For trends you shall also use tensorboard logs "
   ]
  },
  {
   "cell_type": "markdown",
   "metadata": {
    "colab_type": "text",
    "id": "_SO45I-z1Jw_"
   },
   "source": [
    "### Imports"
   ]
  },
  {
   "cell_type": "code",
   "execution_count": null,
   "metadata": {
    "colab": {
     "base_uri": "https://localhost:8080/",
     "height": 84
    },
    "colab_type": "code",
    "executionInfo": {
     "elapsed": 3483,
     "status": "ok",
     "timestamp": 1583162635005,
     "user": {
      "displayName": "Ghulam M. Ali",
      "photoUrl": "https://lh3.googleusercontent.com/a-/AOh14GiQSG3xaMsc0y8KnOmGMCYbqA-LgoYZFmQS5nmnYg=s64",
      "userId": "00342852857140862916"
     },
     "user_tz": -300
    },
    "id": "_62TwKWH1JxD",
    "outputId": "7964169e-d544-41fc-e959-aa7077c297ab"
   },
   "outputs": [],
   "source": [
    "import keras\n",
    "from keras.models import Model\n",
    "from keras.layers import Dense, Input, Conv2D, MaxPooling2D, Dropout, Flatten, BatchNormalization\n",
    "from keras.optimizers import Adam\n",
    "from keras.callbacks import ModelCheckpoint, EarlyStopping, CSVLogger, ReduceLROnPlateau, TensorBoard\n",
    "from keras.utils import plot_model, to_categorical\n",
    "import keras.backend as K\n",
    "\n",
    "from sklearn.model_selection import train_test_split\n",
    "from IPython.display import display\n",
    "\n",
    "import cv2\n",
    "import numpy as np\n",
    "import pandas as pd\n",
    "%matplotlib inline\n",
    "import matplotlib.pyplot as plt\n",
    "plt.style.use('seaborn')\n",
    "\n",
    "import os\n",
    "import glob\n",
    "your_id = 20100286\n",
    "np.random.seed(your_id)"
   ]
  },
  {
   "cell_type": "markdown",
   "metadata": {
    "colab_type": "text",
    "heading_collapsed": true,
    "id": "eDEN6MEp1JxR"
   },
   "source": [
    "###### Hyperparameters"
   ]
  },
  {
   "cell_type": "code",
   "execution_count": null,
   "metadata": {
    "colab": {},
    "colab_type": "code",
    "hidden": true,
    "id": "MAsY01tc1JxV"
   },
   "outputs": [],
   "source": [
    "batch_size = 64\n",
    "num_classes = 10\n",
    "class_labels = np.arange(0, num_classes, 1)\n",
    "input_shape_cifar = (32,32,3)\n",
    "images_dir = './images/cifar/'\n",
    "epochs = 25\n",
    "all_histories = []"
   ]
  },
  {
   "cell_type": "markdown",
   "metadata": {
    "colab_type": "text",
    "id": "sLasqE4g1Jxe"
   },
   "source": [
    "### Task 1.1   Load dataset information\n",
    "Download the [CIFAR-10 Dataset](https://drive.google.com/drive/folders/1FPsts3C2tJMVQ1xcCi2XZdb2z_J2OjSr?usp=sharing) and setup your working directory. Be sure to put the dataset in the <code>images_dir</code> directory. We won't be loading images and will only store the file paths in memory. These file paths will be used to load and return batch of images in our generator. Feel free to explore the dataset in this section."
   ]
  },
  {
   "cell_type": "code",
   "execution_count": null,
   "metadata": {
    "colab": {},
    "colab_type": "code",
    "id": "ccxTLW_31Jxh"
   },
   "outputs": [],
   "source": [
    "train_dir = images_dir + 'train/'\n",
    "test_dir = images_dir + 'test/'\n",
    "label_dir = images_dir + 'labels.txt'\n",
    "\n",
    "# Use either os.listdir or glob to generate an array of file paths for training and testing data (I would recommend using glob)\n",
    "train_files = [f for f in glob.glob(train_dir + '**/*.png', recursive=True)]\n",
    "print (len(train_files))\n",
    "\n",
    "test_files = [f for f in glob.glob(test_dir + '**/*.png', recursive=True)]\n",
    "print (len(test_files))\n",
    "# Use labels.txt to store labels in an array/dict (NOTE: The line number corresponds to the actual label)\n",
    "\n",
    "with open(label_dir, 'r') as f:\n",
    "    classes = [line.rstrip() for line in f]\n",
    "\n",
    "print(classes)\n",
    "\n",
    "# Use sci-kit learn's train_test_split method to generate a validation dataset from the training dataset\n",
    "#train_size = .75, test_size = .25 by default\n",
    "_, val_files = train_test_split(train_files)\n",
    "#print (val_files)"
   ]
  },
  {
   "cell_type": "markdown",
   "metadata": {
    "colab_type": "text",
    "id": "m3IsIHIz1Jxq"
   },
   "source": [
    "### Task 1.2 Preprocessing\n",
    "Preprocessing of data such as normalization, mean shift, make the learning task simple for network and could accelerate the training process. "
   ]
  },
  {
   "cell_type": "markdown",
   "metadata": {
    "colab_type": "text",
    "id": "1UmwrNW71Jxs"
   },
   "source": [
    "###### Task 1.2.1 \n",
    "In images, pixel values range from 0 to 255. To shift the values between (0,1) range, divide input image by 255."
   ]
  },
  {
   "cell_type": "code",
   "execution_count": null,
   "metadata": {
    "colab": {},
    "colab_type": "code",
    "id": "5snpN6wQ1Jxw"
   },
   "outputs": [],
   "source": [
    "def preprocessing_norm(images):\n",
    "    return images / 255"
   ]
  },
  {
   "cell_type": "markdown",
   "metadata": {
    "colab_type": "text",
    "id": "1P85oZBE1Jx6"
   },
   "source": [
    "###### Task 1.2.2\n",
    "Compute the channel-wise mean and standard deviation (std). Subtract channel-wise mean and divide by channel-wise std. This will shift the mean to zero and variation to 1 for each channel. "
   ]
  },
  {
   "cell_type": "code",
   "execution_count": null,
   "metadata": {
    "colab": {},
    "colab_type": "code",
    "id": "BaITqlCq1Jx-"
   },
   "outputs": [],
   "source": [
    "def preprocessing_meanShift(images):\n",
    "    red = np.reshape(images[:,:,0], -1)\n",
    "    green = np.reshape(images[:,:,1], -1)\n",
    "    blue = np.reshape(images[:,:,2], -1)\n",
    "    \n",
    "    redMean = np.mean(red)\n",
    "    redstd = np.std(red)\n",
    "    images[:,:,0] = (images[:,:,0] - redMean) / redstd\n",
    "    \n",
    "    greenMean = np.mean(green)\n",
    "    greenstd = np.std(green)\n",
    "    images[0:0:1] = (images[:,:,1] - greenMean) / greenstd\n",
    "    \n",
    "    blueMean = np.mean(blue)\n",
    "    bluestd = np.std(blue)\n",
    "    images[:,:,2] = (images[:,:,2] - blueMean) / bluestd\n",
    "    \n",
    "    return images"
   ]
  },
  {
   "cell_type": "markdown",
   "metadata": {
    "colab_type": "text",
    "id": "tu4FA32I1JyI"
   },
   "source": [
    "### Task 1.3  Batch Generator\n",
    "Previously, when training our models, we were loading the complete data in memory to fit our model. However, in practice we're working with very large datasets which cannot be loaded all at once in memory. As a solution, we use \"Data Generators\" which are essentially python generators that load batches of data from disk into memory and pass into our models. In order to achieve this, we only store filepaths that point to training/test samples in our dataset in memory. A data generator yields a tuple of (Xs,Ys) whenever the generator is used via the next() function. Implementation of a data generator is open ended, you can add whatever arguments you find necessary in addition to the ones provided."
   ]
  },
  {
   "cell_type": "code",
   "execution_count": 1,
   "metadata": {},
   "outputs": [],
   "source": [
    "#referenced code used is from tutorial handouts notebook\n",
    "def get_sample(sample, preprocessing = None):\n",
    "    images_path = sample['datapath']\n",
    "    \n",
    "    im = cv2.cvtColor(cv2.imread(images_path), cv2.COLOR_BGR2RGB)\n",
    "    # Any pre-processing goes here\n",
    "    if preprocessing:\n",
    "        im = preprocessing(df)\n",
    "    \n",
    "    label = np.zeros((num_classes,), dtype='int')\n",
    "    label[classes.index(images_path.split('_')[1].split('.')[0])] = 1\n",
    "    \n",
    "    #print (label)\n",
    "    return im, label"
   ]
  },
  {
   "cell_type": "code",
   "execution_count": null,
   "metadata": {
    "colab": {},
    "colab_type": "code",
    "id": "5rSqefpd1JyK"
   },
   "outputs": [],
   "source": [
    "#referenced code used is from tutorial handouts notebook\n",
    "\n",
    "def data_generator( datapath , batch_size = 32, preprocessing = None):\n",
    "    \n",
    "    df = pd.DataFrame(datapath, columns = ['datapath'])\n",
    "    \n",
    "    # Get indices of starting points of all batches\n",
    "    indexes = np.arange(0, len(df), batch_size)\n",
    "    \n",
    "    # So 5 if the len(df)/batchsize == 5.5\n",
    "    # instead of 6 which could be done if I replicated samples or write code to create a final batch of remaining items\n",
    "    if len(df) % batch_size != 0:\n",
    "        indexes = indexes[:-1] \n",
    "    \n",
    "    while True: # 1 iteration represents 1 epoch\n",
    "        np.random.shuffle(indexes) # indexes shuffled for each epoch\n",
    "        for batch_start in indexes: # 1 iteration represents 1 batch\n",
    "            batch_examples = df.iloc[batch_start : batch_start+batch_size].reset_index()\n",
    "      \n",
    "            # Empty placeholders for 1 full batch\n",
    "#             img_shape = (256,256,3)\n",
    "#             Xs = np.zeros((batch_size,*img_shape))\n",
    "#             Ys = np.zeros((batch_size, num_classes))\n",
    "#             for index, row in batch_examples.iterrows(): # 1 iteration represents 1 sample in a batch\n",
    "#                 x, y = get_sample(row)\n",
    "#                 Xs[index, :, :, :] = x\n",
    "#                 Ys[index, :] = y\n",
    "#             yield Xs, Ys\n",
    "     \n",
    "            # ALTERNATE METHOD - Without placeholders\n",
    "            batch_imgs = np.array([(get_sample(row, preprocessing))[0] for _,row in batch_examples.iterrows()])\n",
    "            #print (batch_imgs)\n",
    "            batch_labels = np.array([(get_sample(row, preprocessing))[1] for _,row in batch_examples.iterrows()])\n",
    "            #print (batch_labels)\n",
    "            yield batch_imgs, batch_labels"
   ]
  },
  {
   "cell_type": "markdown",
   "metadata": {
    "colab_type": "text",
    "id": "MrPLGX0W1JyR"
   },
   "source": [
    "### Task 1.4 Design CNN model\n",
    "**IMPORTANT**: For each model you create, you need to conduct analysis in a markdown cell below the code cell containing the model's training. Your analysis should include plots, comments on its accuracy/loss, etc. Try to predict images and see what images your model is correctly classifying, see if your model is overfitting or not. For each layer you add, specify its function and then comment on its results."
   ]
  },
  {
   "cell_type": "code",
   "execution_count": null,
   "metadata": {
    "colab": {},
    "colab_type": "code",
    "id": "vXY1T20o1JyU"
   },
   "outputs": [],
   "source": [
    "# Design a CNN to predict classes for the images in the dataset. Try to keep your network shallow since you'll be training your model on your PC as well.\n",
    "input_img = Input(shape=input_shape_cifar, name='input_img')\n",
    "#model_initial = Sequential()\n",
    "\n",
    "model_initial = Conv2D(1, kernel_size=(3,3), activation='relu')(input_img)\n",
    "\n",
    "#model_initial = Conv2D(64, (3, 3), activation='relu', padding='same')(model_initial)\n",
    "model_initial = Conv2D(32, (3, 3), activation='relu', padding='same')(model_initial)\n",
    "model_initial = Flatten()(model_initial)\n",
    "model_initial = Dense(32, activation='relu')(model_initial)\n",
    "\n",
    "output_class = Dense(num_classes, activation='softmax')(model_initial)\n",
    "model_initial = Model(inputs=input_img, outputs=output_class)"
   ]
  },
  {
   "cell_type": "markdown",
   "metadata": {
    "colab_type": "text",
    "id": "4MxaSQWv1Jyc"
   },
   "source": [
    "#### Compile model and plot"
   ]
  },
  {
   "cell_type": "code",
   "execution_count": null,
   "metadata": {
    "colab": {},
    "colab_type": "code",
    "id": "XBgsJsdc1Jyd"
   },
   "outputs": [],
   "source": [
    "model_name = 'base_model'\n",
    "\n",
    "if not os.path.exists('./'+model_name):\n",
    "    os.mkdir(model_name)\n",
    "   "
   ]
  },
  {
   "cell_type": "code",
   "execution_count": null,
   "metadata": {
    "colab": {},
    "colab_type": "code",
    "id": "Ajyut3HT1Jyn"
   },
   "outputs": [],
   "source": [
    " # You may tweak the learning rate\n",
    "adam = Adam(lr=0.001)\n",
    "\n",
    "# Use the appropriate loss function and compile the model\n",
    "model_initial.compile(loss='categorical_crossentropy', \n",
    "              optimizer=adam, \n",
    "              metrics=['accuracy'])"
   ]
  },
  {
   "cell_type": "code",
   "execution_count": null,
   "metadata": {
    "colab": {},
    "colab_type": "code",
    "id": "7Bt9gczg1Jyt"
   },
   "outputs": [],
   "source": [
    "plot_model(model_initial, model_name+'/'+model_name+'.png')"
   ]
  },
  {
   "cell_type": "code",
   "execution_count": null,
   "metadata": {
    "colab": {},
    "colab_type": "code",
    "id": "bqT8OZHL1Jyz"
   },
   "outputs": [],
   "source": [
    "model_initial.summary()"
   ]
  },
  {
   "cell_type": "markdown",
   "metadata": {
    "colab_type": "text",
    "id": "zrpnPZ8S1Jy7"
   },
   "source": [
    "#### Task 1.5 Training model\n",
    "In order to train the model, instead of \"model.fit\" function, we will use the \"model.fit_generator\" function for training. For details check out [keras documentation](https://keras.io/models/sequential/)"
   ]
  },
  {
   "cell_type": "code",
   "execution_count": null,
   "metadata": {
    "colab": {},
    "colab_type": "code",
    "id": "DuFCvD_u1Jy9"
   },
   "outputs": [],
   "source": [
    "class LRTensorBoard(TensorBoard):\n",
    "    def __init__(self, *args, **kwargs):\n",
    "        super(LRTensorBoard, self).__init__(*args, **kwargs)\n",
    "\n",
    "    def on_epoch_end(self, epoch, logs=None):\n",
    "        logs.update({'lr': K.eval(self.model.optimizer.lr)})\n",
    "        super(LRTensorBoard, self).on_epoch_end(epoch, logs)"
   ]
  },
  {
   "cell_type": "code",
   "execution_count": null,
   "metadata": {
    "colab": {},
    "colab_type": "code",
    "id": "bKrzfKN71JzC"
   },
   "outputs": [],
   "source": [
    "# Add the following callbacks to your Model: ModelCheckpoin, CSVLogger, ReduceLROnPlateau. The callback for Tensorboard has already been provided to you.\n",
    "checkpoint = ModelCheckpoint(model_name+'/'+model_name+'-{epoch:02d}-{val_loss:.2f}.h5', \n",
    "                             monitor='val_loss', verbose=1, save_best_only=True, mode='auto')\n",
    "csvlogger = CSVLogger(model_name+'/logs.csv', separator=',', append=True)\n",
    "reducelr = ReduceLROnPlateau(monitor='val_loss', factor=0.2, patience=3, min_lr=0.000001, min_delta=0.03)\n",
    "\n",
    "tensorboard = LRTensorBoard(log_dir='./'+model_name, histogram_freq=0, write_graph=True, write_grads=1, \n",
    "                            batch_size=batch_size, write_images=True)\n",
    "\n",
    "callbacks = [checkpoint, tensorboard, csvlogger, reducelr]"
   ]
  },
  {
   "cell_type": "markdown",
   "metadata": {
    "colab_type": "text",
    "id": "cu9tI6TB1JzK"
   },
   "source": [
    "#### Task 1.5.1 \n",
    "Train model without using any pre-processing scheme"
   ]
  },
  {
   "cell_type": "code",
   "execution_count": null,
   "metadata": {
    "colab": {},
    "colab_type": "code",
    "id": "0zsPJd1N1JzL"
   },
   "outputs": [],
   "source": [
    "# Create three generators: For training your model, for validation, for testing.\n",
    "train_gen = data_generator(train_files, batch_size, None)\n",
    "test_gen = data_generator(test_files, batch_size, None)\n",
    "valid_gen = data_generator(val_files, batch_size, None)"
   ]
  },
  {
   "cell_type": "code",
   "execution_count": null,
   "metadata": {
    "colab": {},
    "colab_type": "code",
    "id": "j1DgTHEQ1JzP",
    "scrolled": true
   },
   "outputs": [],
   "source": [
    "# Start training your model here\n",
    "hist_initial = model_initial.fit_generator(train_gen, epochs=epochs, \n",
    "                                           steps_per_epoch= len(train_files) // batch_size,\n",
    "                                           validation_data= valid_gen, \n",
    "                                           validation_steps = len(val_files) // batch_size,\n",
    "                                           callbacks=callbacks, \n",
    "                                           verbose=1)\n",
    "\n",
    "all_histories.append(hist_initial)"
   ]
  },
  {
   "cell_type": "markdown",
   "metadata": {
    "colab_type": "text",
    "id": "-_q3LUxs1JzV"
   },
   "source": [
    "#### Task 1.5.2 \n",
    "Train model by using data preprocessing i.e normalization or mean shift. "
   ]
  },
  {
   "cell_type": "code",
   "execution_count": null,
   "metadata": {
    "colab": {},
    "colab_type": "code",
    "id": "f3keXAQy1JzZ"
   },
   "outputs": [],
   "source": [
    "input_img = Input(shape=(input_shape), name='input_img')"
   ]
  },
  {
   "cell_type": "code",
   "execution_count": null,
   "metadata": {
    "colab": {},
    "colab_type": "code",
    "id": "wmTsPEei1Jzd"
   },
   "outputs": [],
   "source": [
    "model_name = 'model_preprocessed_input'\n",
    "\n",
    "if not os.path.exists('./'+model_name):\n",
    "    os.mkdir(model_name)\n",
    "    "
   ]
  },
  {
   "cell_type": "code",
   "execution_count": null,
   "metadata": {
    "colab": {},
    "colab_type": "code",
    "id": "iJVvgndt1Jzk"
   },
   "outputs": [],
   "source": [
    "# You may tweak this Learning Rate\n",
    "adam = Adam(lr=0.001)\n",
    "\n",
    "# Compile your model using an appropriate loss\n",
    "model_preprocessed.compile(loss=None, \n",
    "              optimizer=adam, \n",
    "              metrics=['accuracy'])"
   ]
  },
  {
   "cell_type": "code",
   "execution_count": null,
   "metadata": {
    "colab": {},
    "colab_type": "code",
    "id": "4KOgthax1Jzp"
   },
   "outputs": [],
   "source": [
    "plot_model(model_preprocessed, model_name+'/'+model_name+'.png')"
   ]
  },
  {
   "cell_type": "code",
   "execution_count": null,
   "metadata": {
    "colab": {},
    "colab_type": "code",
    "id": "d0LFfbS_1Jzv"
   },
   "outputs": [],
   "source": [
    "model_preprocessed.summary()"
   ]
  },
  {
   "cell_type": "code",
   "execution_count": null,
   "metadata": {
    "colab": {},
    "colab_type": "code",
    "id": "1caTp4S01Jzz"
   },
   "outputs": [],
   "source": [
    "# Add the following callbacks: ModelCheckpoint, CSVLogger. The callback for tensorboard has been provided to you.\n",
    "checkpoint = None\n",
    "csvlogger = None\n",
    "tensorboard = LRTensorBoard(log_dir='./'+model_name, histogram_freq=0, write_graph=True, write_grads=1, \n",
    "                            batch_size=batch_size, write_images=True)\n",
    "\n",
    "callbacks = None"
   ]
  },
  {
   "cell_type": "code",
   "execution_count": null,
   "metadata": {
    "colab": {},
    "colab_type": "code",
    "id": "1dKnP7Au1Jz6"
   },
   "outputs": [],
   "source": [
    "# Create three generators again"
   ]
  },
  {
   "cell_type": "code",
   "execution_count": null,
   "metadata": {
    "colab": {},
    "colab_type": "code",
    "id": "fnj6l1qD1Jz_"
   },
   "outputs": [],
   "source": [
    "hist_preprocessed = None\n",
    "all_histories.append(hist_preprocessed)"
   ]
  },
  {
   "cell_type": "markdown",
   "metadata": {
    "colab_type": "text",
    "id": "wcpz-YS-1J0D"
   },
   "source": [
    "### Task 2.1 Pooling\n",
    "Now, you need to modify the model by adding pooling layer(s). Pooling could be average pooling or max pooling. You can use the size and stride for pooling of your choice. \n",
    "<br> \n",
    "Modify the network by introducing pooling layer and train the model using the __fit_generator__ function. "
   ]
  },
  {
   "cell_type": "code",
   "execution_count": null,
   "metadata": {
    "colab": {},
    "colab_type": "code",
    "id": "uuFqOGkR1J0E"
   },
   "outputs": [],
   "source": [
    "model_name = 'model_pooling'\n",
    "\n",
    "input_img = Input(shape=(input_shape), name='input_img')\n",
    "model_pooled = None\n",
    "\n",
    "if not os.path.exists('./'+model_name):\n",
    "    os.mkdir(model_name)"
   ]
  },
  {
   "cell_type": "code",
   "execution_count": null,
   "metadata": {
    "colab": {},
    "colab_type": "code",
    "id": "JZ3M6YCG1J0L"
   },
   "outputs": [],
   "source": [
    "adam = Adam(lr=0.001)\n",
    "model_pooled.compile(loss=None, \n",
    "              optimizer=adam, \n",
    "              metrics=['accuracy'])"
   ]
  },
  {
   "cell_type": "code",
   "execution_count": null,
   "metadata": {
    "colab": {},
    "colab_type": "code",
    "id": "xtvEmrcP1J0P"
   },
   "outputs": [],
   "source": [
    "plot_model(model_pooled, model_name+'/'+model_name+'.png')\n",
    "model_pooled.summary()"
   ]
  },
  {
   "cell_type": "code",
   "execution_count": null,
   "metadata": {
    "colab": {},
    "colab_type": "code",
    "id": "9mExp7JL1J0S"
   },
   "outputs": [],
   "source": [
    "# Add the following callbacks: ModelCheckpoint, CSVLogger\n",
    "checkpoint = None\n",
    "csvlogger = None\n",
    "tensorboard = LRTensorBoard(log_dir='./'+model_name, histogram_freq=0, write_graph=True, write_grads=1, \n",
    "                            batch_size=batch_size, write_images=True)\n",
    "\n",
    "callbacks = None"
   ]
  },
  {
   "cell_type": "code",
   "execution_count": null,
   "metadata": {
    "colab": {},
    "colab_type": "code",
    "id": "80NYt4lP1J0Y"
   },
   "outputs": [],
   "source": [
    "# Create generators"
   ]
  },
  {
   "cell_type": "code",
   "execution_count": null,
   "metadata": {
    "colab": {},
    "colab_type": "code",
    "id": "1od1LW9d1J0f",
    "scrolled": true
   },
   "outputs": [],
   "source": [
    "hist_pooled = None\n",
    "all_histories.append(hist_pooled)"
   ]
  },
  {
   "cell_type": "markdown",
   "metadata": {
    "colab_type": "text",
    "id": "8yLzO2p41J0k"
   },
   "source": [
    "### Task 3.1 Dropout\n",
    "Modify the network by introducing dropout layer(s) and train the model using the __fit_generator__ function. "
   ]
  },
  {
   "cell_type": "code",
   "execution_count": null,
   "metadata": {
    "colab": {},
    "colab_type": "code",
    "id": "0-JKXLET1J0k"
   },
   "outputs": [],
   "source": [
    "model_name = 'model_dropout'\n",
    "\n",
    "input_img = Input(shape=(input_shape), name='input_img')\n",
    "\n",
    "model_dropout = None\n",
    "\n",
    "if not os.path.exists('./'+model_name):\n",
    "    os.mkdir(model_name)"
   ]
  },
  {
   "cell_type": "code",
   "execution_count": null,
   "metadata": {
    "colab": {},
    "colab_type": "code",
    "id": "sd6AuSHV1J0o"
   },
   "outputs": [],
   "source": [
    "adam = Adam(lr=0.001)\n",
    "model_dropout.compile(loss=None, \n",
    "              optimizer=adam, \n",
    "              metrics=['accuracy'])"
   ]
  },
  {
   "cell_type": "code",
   "execution_count": null,
   "metadata": {
    "colab": {},
    "colab_type": "code",
    "id": "BvWWBuu31J0t"
   },
   "outputs": [],
   "source": [
    "plot_model(model_dropout, model_name+'/'+model_name+'.png')\n",
    "model_dropout.summary()"
   ]
  },
  {
   "cell_type": "code",
   "execution_count": null,
   "metadata": {
    "colab": {},
    "colab_type": "code",
    "id": "z4JhmI0u1J0w"
   },
   "outputs": [],
   "source": [
    "checkpoint = None\n",
    "csvlogger = None\n",
    "tensorboard = LRTensorBoard(log_dir='./'+model_name, histogram_freq=0, write_graph=True, write_grads=1, \n",
    "                            batch_size=batch_size, write_images=True)\n",
    "\n",
    "callbacks = None"
   ]
  },
  {
   "cell_type": "code",
   "execution_count": null,
   "metadata": {
    "colab": {},
    "colab_type": "code",
    "id": "T9iY2jIE1J0z"
   },
   "outputs": [],
   "source": [
    "# Create three Generators"
   ]
  },
  {
   "cell_type": "code",
   "execution_count": null,
   "metadata": {
    "colab": {},
    "colab_type": "code",
    "id": "zQbAH3td1J02",
    "scrolled": true
   },
   "outputs": [],
   "source": [
    "hist_dropout = None\n",
    "\n",
    "all_histories.append(hist_dropout)"
   ]
  },
  {
   "cell_type": "markdown",
   "metadata": {
    "colab_type": "text",
    "id": "iNF1Y7pG1J05"
   },
   "source": [
    "### Task 4.1 Batch Normalization\n",
    "Modify the network by introducing batch normalization layer(s) and train the model. "
   ]
  },
  {
   "cell_type": "code",
   "execution_count": null,
   "metadata": {
    "colab": {},
    "colab_type": "code",
    "id": "66vzVFWk1J07"
   },
   "outputs": [],
   "source": [
    "model_name = 'model_batch_normalized'\n",
    "if not os.path.exists('./'+model_name):\n",
    "    os.mkdir(model_name)"
   ]
  },
  {
   "cell_type": "code",
   "execution_count": null,
   "metadata": {
    "colab": {},
    "colab_type": "code",
    "id": "aC-mCAH11J1B"
   },
   "outputs": [],
   "source": [
    "input_img = Input(shape=(input_shape), name='input_img')\n",
    "\n",
    "model_normalized = None"
   ]
  },
  {
   "cell_type": "code",
   "execution_count": null,
   "metadata": {
    "colab": {},
    "colab_type": "code",
    "id": "1m6npn-s1J1F"
   },
   "outputs": [],
   "source": [
    "adam = Adam(lr=0.001)\n",
    "model_normalized.compile(loss=None, \n",
    "              optimizer=adam, \n",
    "              metrics=['accuracy'])"
   ]
  },
  {
   "cell_type": "code",
   "execution_count": null,
   "metadata": {
    "colab": {},
    "colab_type": "code",
    "id": "0pgU1duz1J1J"
   },
   "outputs": [],
   "source": [
    "plot_model(model_normalized, model_name+'/'+model_name+'.png')\n",
    "model_normalized.summary()"
   ]
  },
  {
   "cell_type": "code",
   "execution_count": null,
   "metadata": {
    "colab": {},
    "colab_type": "code",
    "id": "iQEu-s6q1J1P"
   },
   "outputs": [],
   "source": [
    "# Add the following checkpoints: ModelCheckpoint, CSVLogger\n",
    "checkpoint = None\n",
    "cvslogger = None\n",
    "tensorboard = LRTensorBoard(log_dir='./'+model_name, histogram_freq=0, write_graph=True, write_grads=1, \n",
    "                            batch_size=batch_size, write_images=True)\n",
    "\n",
    "callbacks = None"
   ]
  },
  {
   "cell_type": "code",
   "execution_count": null,
   "metadata": {
    "colab": {},
    "colab_type": "code",
    "id": "t2alWyT_1J1T"
   },
   "outputs": [],
   "source": [
    "# Create three generators"
   ]
  },
  {
   "cell_type": "code",
   "execution_count": null,
   "metadata": {
    "colab": {},
    "colab_type": "code",
    "id": "Zze-fYs-1J1W",
    "scrolled": true
   },
   "outputs": [],
   "source": [
    "hist_normalized = None\n",
    "all_histories.append(hist_normalized)"
   ]
  },
  {
   "cell_type": "markdown",
   "metadata": {
    "colab_type": "text",
    "id": "AqjJj5yJ1J1Z"
   },
   "source": [
    "### Task 5.1 Comparison of all models\n",
    "In this task you need to plot the loss and accuracy for all models and __discuss__ which model has better performance and why do you think so."
   ]
  },
  {
   "cell_type": "code",
   "execution_count": null,
   "metadata": {
    "colab": {},
    "colab_type": "code",
    "id": "iNR3kQGX1J1c"
   },
   "outputs": [],
   "source": [
    "# Plot accuracy of all models\n",
    "def plotHistory(histories, names, metric):\n",
    "    plt.clf() \n",
    "    x_axis = list(range(epochs))\n",
    "    for hist, name in zip(histories, names):\n",
    "        plt.plot(x_axis, hist.history[metric], label=metric+'_'+name)\n",
    "        plt.scatter(x_axis, hist.history[metric])\n",
    "    plt.legend()\n",
    "    plt.title(metric)\n",
    "    plt.show()"
   ]
  },
  {
   "cell_type": "code",
   "execution_count": null,
   "metadata": {
    "colab": {},
    "colab_type": "code",
    "id": "8CH4lPLN1J1f"
   },
   "outputs": [],
   "source": [
    "# Plot histories of all models"
   ]
  },
  {
   "cell_type": "markdown",
   "metadata": {
    "colab_type": "text",
    "id": "GAtSSgxC1J1x"
   },
   "source": [
    "#### Tensorboard \n",
    "We will be covering Tensorboard in Friday's tutorial. You can complete this part after the tutorial (21st Feb 2020)"
   ]
  },
  {
   "cell_type": "markdown",
   "metadata": {
    "colab_type": "text",
    "id": "_ATvKoMo1J1y"
   },
   "source": [
    "You can run TensorBoard using the following command\n",
    "```tensorboard --logdir=path/to/log-directory\n",
    "```\n",
    "Now for logs of all above trained models, take snapshot of the _loss_ and _accuracy_ plots and save in the directory where this notebook is. To show that saved plot here in notebook use following command in _markdown_ cell. \n",
    "<br> __![](path_to_image)__"
   ]
  },
  {
   "cell_type": "markdown",
   "metadata": {
    "colab_type": "text",
    "id": "vJtzYNps1J1z"
   },
   "source": [
    "**Add cells to include loss plots**"
   ]
  },
  {
   "cell_type": "markdown",
   "metadata": {
    "colab_type": "text",
    "id": "DhuKQ_VA1J11"
   },
   "source": [
    "##### Add your analysis here"
   ]
  },
  {
   "cell_type": "markdown",
   "metadata": {
    "colab_type": "text",
    "id": "M8nClPbi1J13"
   },
   "source": []
  },
  {
   "cell_type": "markdown",
   "metadata": {
    "colab_type": "text",
    "id": "IyHM1OjV1J14"
   },
   "source": [
    "### Task 5.2 Visualize Activations\n",
    "We will be covering this in Friday's tutorial. You can complete this part after the tutorial (21st Feb 2020). In this task, you are required to visualize the activations (outputs) of both the convolution layers of a model."
   ]
  },
  {
   "cell_type": "code",
   "execution_count": null,
   "metadata": {
    "colab": {},
    "colab_type": "code",
    "id": "F17jIppZ1J15"
   },
   "outputs": [],
   "source": [
    "# Load any image here\n",
    "test_image = None\n",
    "\n",
    "plt.imshow(test_image)"
   ]
  },
  {
   "cell_type": "code",
   "execution_count": null,
   "metadata": {
    "colab": {},
    "colab_type": "code",
    "id": "Hn82Q5QF1J18"
   },
   "outputs": [],
   "source": [
    "plt.gca().grid(False);\n",
    "\n",
    "test_reshaped = test_image.reshape((1,32,32,3))\n",
    "\n",
    "# Get a prediction from ANY ONE of your models and output its label"
   ]
  },
  {
   "cell_type": "code",
   "execution_count": null,
   "metadata": {
    "colab": {},
    "colab_type": "code",
    "id": "RfD50wJ71J2A"
   },
   "outputs": [],
   "source": [
    "# Create a Model from the Input layer to a Convolutional Layer"
   ]
  },
  {
   "cell_type": "code",
   "execution_count": null,
   "metadata": {
    "colab": {},
    "colab_type": "code",
    "id": "enYqFGjH1J2D"
   },
   "outputs": [],
   "source": [
    "# Get a prediction for your chosen image using this model\n",
    "predicted_activations = None"
   ]
  },
  {
   "cell_type": "code",
   "execution_count": null,
   "metadata": {
    "colab": {},
    "colab_type": "code",
    "id": "EQxeEytn1J2H"
   },
   "outputs": [],
   "source": [
    "# Use your predictions to visualise the activations\n",
    "for i,ax in enumerate(axes.flatten()):\n",
    "    ax.imshow(predicted_activations[0,:,:,i]);\n",
    "    ax.grid(False);\n",
    "    ax.axis('off');"
   ]
  },
  {
   "cell_type": "code",
   "execution_count": null,
   "metadata": {
    "colab": {},
    "colab_type": "code",
    "id": "u0BWSYYj1J2K"
   },
   "outputs": [],
   "source": [
    "# Create another model to visualize activations from ANOTHER convolutional layer"
   ]
  },
  {
   "cell_type": "code",
   "execution_count": null,
   "metadata": {
    "colab": {},
    "colab_type": "code",
    "id": "5PekcMVV1J2T"
   },
   "outputs": [],
   "source": [
    "# You may rename this variable\n",
    "second_predicted_activations = None"
   ]
  },
  {
   "cell_type": "code",
   "execution_count": null,
   "metadata": {
    "colab": {},
    "colab_type": "code",
    "id": "fKRbNmv01J2W"
   },
   "outputs": [],
   "source": [
    "fig, axes = plt.subplots(nrows=4, ncols=4, figsize=(15,15), dpi=80)\n",
    "for i,ax in enumerate(axes.flatten()):\n",
    "    ax.imshow(second_predicted_activations[0,:,:,i]);\n",
    "    ax.grid(False);\n",
    "    ax.axis('off');"
   ]
  },
  {
   "cell_type": "markdown",
   "metadata": {
    "colab_type": "text",
    "id": "RGpfkSs61J2Y"
   },
   "source": [
    "Q) What features from your chosen image do you think your model has been able to learn? In terms of filters (weights), what goes on when we add more convolutional layers in our models?"
   ]
  },
  {
   "cell_type": "markdown",
   "metadata": {
    "colab_type": "text",
    "heading_collapsed": true,
    "id": "Ewxbyl4z1J2Z"
   },
   "source": [
    "### Task 6.1  Effect of learning rate\n",
    "Take the best selected model in __Task 5.1__ and change its learning rate to: \n",
    "- 6.1.1 any value between 5 and 1.\n",
    "- 6.1.2 learning rate = any value between 0.6 and  0.1 \n",
    "- 6.1.3 learning rate = 0.00001\n",
    "\n",
    "and train these three models to compare the effect learning rate."
   ]
  },
  {
   "cell_type": "code",
   "execution_count": null,
   "metadata": {
    "colab": {},
    "colab_type": "code",
    "hidden": true,
    "id": "YnSwQtoK1J2a"
   },
   "outputs": [],
   "source": [
    "# Use code provided in previous tasks"
   ]
  },
  {
   "cell_type": "markdown",
   "metadata": {
    "colab_type": "text",
    "id": "O5rBMw7V1J2c"
   },
   "source": [
    "### Task 6.2 Plot loss and accuracy\n",
    "Plot the loss and accracy for best model selected in task 5.1, and model trained in 6.1.1, 6.1.2 and 6.1.3 task. Give the detailed analysis of the effect of learning rate in your words and select the best learning rate for this problem."
   ]
  },
  {
   "cell_type": "code",
   "execution_count": null,
   "metadata": {
    "colab": {},
    "colab_type": "code",
    "id": "Z9s8v0sB1J2d"
   },
   "outputs": [],
   "source": [
    "# Use plotHistory to make these plots"
   ]
  },
  {
   "cell_type": "markdown",
   "metadata": {
    "colab_type": "text",
    "id": "zPG1Z28q1J2h"
   },
   "source": [
    "Analysis:"
   ]
  }
 ],
 "metadata": {
  "colab": {
   "name": "CS437_DL_PA3_PartB.ipynb",
   "provenance": []
  },
  "kernelspec": {
   "display_name": "Python 3",
   "language": "python",
   "name": "python3"
  },
  "language_info": {
   "codemirror_mode": {
    "name": "ipython",
    "version": 3
   },
   "file_extension": ".py",
   "mimetype": "text/x-python",
   "name": "python",
   "nbconvert_exporter": "python",
   "pygments_lexer": "ipython3",
   "version": "3.6.10"
  },
  "toc": {
   "base_numbering": 1,
   "nav_menu": {},
   "number_sections": true,
   "sideBar": true,
   "skip_h1_title": false,
   "title_cell": "Table of Contents",
   "title_sidebar": "Contents",
   "toc_cell": false,
   "toc_position": {},
   "toc_section_display": true,
   "toc_window_display": false
  }
 },
 "nbformat": 4,
 "nbformat_minor": 1
}
